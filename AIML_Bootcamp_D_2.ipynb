{
  "nbformat": 4,
  "nbformat_minor": 0,
  "metadata": {
    "colab": {
      "provenance": [],
      "authorship_tag": "ABX9TyMTrpfciZ2llCHgRYsPmvsM",
      "include_colab_link": true
    },
    "kernelspec": {
      "name": "python3",
      "display_name": "Python 3"
    },
    "language_info": {
      "name": "python"
    }
  },
  "cells": [
    {
      "cell_type": "markdown",
      "metadata": {
        "id": "view-in-github",
        "colab_type": "text"
      },
      "source": [
        "<a href=\"https://colab.research.google.com/github/Abhi5503/2216200_AIML_Bootcamp_2023/blob/main/AIML_Bootcamp_D_2.ipynb\" target=\"_parent\"><img src=\"https://colab.research.google.com/assets/colab-badge.svg\" alt=\"Open In Colab\"/></a>"
      ]
    },
    {
      "cell_type": "code",
      "execution_count": null,
      "metadata": {
        "id": "Xxu0iHJa_IGq"
      },
      "outputs": [],
      "source": [
        "#arithmetic operators\n",
        "print(\"arithmetic operators\")\n",
        "a=3\n",
        "b=4\n",
        "\n",
        " print(a+b)\n",
        " print(a-b)\n",
        " print(a*b)\n",
        " print(a**%%bash)\n",
        " print(a/b)\n",
        " print(a//b)\n",
        " print(a%b)"
      ]
    },
    {
      "cell_type": "code",
      "source": [],
      "metadata": {
        "id": "64RzOTLfCKm_"
      },
      "execution_count": null,
      "outputs": []
    },
    {
      "cell_type": "code",
      "source": [
        "#comparision operators\n",
        "\n",
        "a==b\n",
        "a<=b\n",
        "a>=b\n",
        "a<<b\n",
        "a>>b\n",
        "a!=b"
      ],
      "metadata": {
        "colab": {
          "base_uri": "https://localhost:8080/"
        },
        "id": "nEQsiWbQA0aL",
        "outputId": "11684c56-b3ce-4b2c-cfee-8cf6a15fc5f5"
      },
      "execution_count": 6,
      "outputs": [
        {
          "output_type": "execute_result",
          "data": {
            "text/plain": [
              "True"
            ]
          },
          "metadata": {},
          "execution_count": 6
        }
      ]
    },
    {
      "cell_type": "code",
      "source": [
        "#assignment operators\n",
        "\n",
        "a=10\n",
        "b=5\n",
        "\n",
        "c=a+b\n",
        "c-=a"
      ],
      "metadata": {
        "id": "qM0D2l9EA-dZ"
      },
      "execution_count": 5,
      "outputs": []
    },
    {
      "cell_type": "code",
      "source": [
        "#logical operators\n",
        "\n",
        "x = True\n",
        "y = False\n",
        "print(\"a and y is:\" x and y)\n",
        "print(\"x or y is:\",x or y)\n",
        "print(\"x not y is:\",not y)"
      ],
      "metadata": {
        "id": "aKg0BBAhCMs0"
      },
      "execution_count": null,
      "outputs": []
    },
    {
      "cell_type": "code",
      "source": [
        "#bitwise operators\n",
        "\n",
        "a=13 #0000 1101\n",
        "a=14 #0000 1110\n",
        "\n",
        "print(a&b)#and\n",
        "print(a|b)#or\n",
        "print(~a)#not\n",
        "print(a^b)#xor\n",
        "print(a>>2)#right shift\n",
        "print(a<<2)#left shift"
      ],
      "metadata": {
        "colab": {
          "base_uri": "https://localhost:8080/"
        },
        "id": "0wsSCXCMC9yE",
        "outputId": "9d05d493-2b24-4654-8406-67a4d145f197"
      },
      "execution_count": 17,
      "outputs": [
        {
          "output_type": "stream",
          "name": "stdout",
          "text": [
            "4\n",
            "15\n",
            "-15\n",
            "11\n",
            "3\n",
            "56\n"
          ]
        }
      ]
    },
    {
      "cell_type": "code",
      "source": [
        "#membership operators\n",
        "\n",
        "x=\"hello world\"\n",
        "\n",
        "print(\"w\" in x)"
      ],
      "metadata": {
        "colab": {
          "base_uri": "https://localhost:8080/"
        },
        "id": "vewElmN2EVKl",
        "outputId": "02a0df70-818f-4d81-9df7-9414b03e254f"
      },
      "execution_count": 23,
      "outputs": [
        {
          "output_type": "stream",
          "name": "stdout",
          "text": [
            "True\n"
          ]
        }
      ]
    },
    {
      "cell_type": "code",
      "source": [
        "#identity operators\n",
        "\n",
        "x1=5\n",
        "y1=5\n",
        "x2=\"hello\"\n",
        "y2=\"hello\"\n",
        "x3=[1,2,3]\n",
        "y3=[1,2,3]\n",
        "print(x1 is not y1)\n",
        "print(x2 is y2)\n",
        "print(x3 is y3)"
      ],
      "metadata": {
        "colab": {
          "base_uri": "https://localhost:8080/"
        },
        "id": "TeiIZ5z8FFo0",
        "outputId": "2dbaebb4-e2e8-4a18-c568-8847c33c0ffd"
      },
      "execution_count": 24,
      "outputs": [
        {
          "output_type": "stream",
          "name": "stdout",
          "text": [
            "False\n",
            "True\n",
            "False\n"
          ]
        }
      ]
    },
    {
      "cell_type": "code",
      "source": [
        "a=int(input(\"enter a number:\"))\n",
        "print(a)\n",
        "\n",
        "b=input(\"enter string:\")\n",
        "print(b)"
      ],
      "metadata": {
        "colab": {
          "base_uri": "https://localhost:8080/"
        },
        "id": "Rjwf7ktVF8dL",
        "outputId": "127a91ab-c612-4148-ebe9-e1619c7297da"
      },
      "execution_count": 27,
      "outputs": [
        {
          "output_type": "stream",
          "name": "stdout",
          "text": [
            "enter a number:4\n",
            "4\n",
            "enter string:hello\n",
            "hello\n"
          ]
        }
      ]
    },
    {
      "cell_type": "code",
      "source": [
        "#string\n",
        "\n",
        "str=\"HelloWorld\"\n",
        "#indexing\n",
        "print(str[0])\n",
        "print(str[-1])\n",
        "\n",
        "#slicing\n",
        "#from:to(n-1:2)\n",
        "print(str[0:5])\n",
        "print(str[0:7:2])\n",
        "\n",
        "#reverse a string\n",
        "\n",
        "print(str[::-1])\n",
        "\n",
        "#string methods\n",
        "my_str=\"Hello World\"\n",
        "print(my_str.upper())\n",
        "print(my_str.lower())\n",
        "print(my_str.swapcase())\n",
        "print(my_str.lstrip())\n",
        "print(my_str.rstrip())\n",
        "\n",
        "#string operations\n",
        "str1=\"hello\"\n",
        "str2=\"world\"\n",
        "\n",
        "#string formats\n",
        "name=\"Abhi\"\n",
        "language=\"Python\"\n",
        "year=\"2023\"\n",
        "\n",
        "print(name,\"is learning\" ,language, \"programming in\",year )"
      ],
      "metadata": {
        "colab": {
          "base_uri": "https://localhost:8080/"
        },
        "id": "8t3m0qCPGjWv",
        "outputId": "a11d0916-ad8d-4c7d-850e-3cba3a9f5212"
      },
      "execution_count": 40,
      "outputs": [
        {
          "output_type": "stream",
          "name": "stdout",
          "text": [
            "H\n",
            "d\n",
            "Hello\n",
            "Hloo\n",
            "dlroWolleH\n",
            "HELLO WORLD\n",
            "hello world\n",
            "hELLO wORLD\n",
            "Hello World\n",
            "Hello World\n",
            "Abhi is learning Python programming in 2023\n"
          ]
        }
      ]
    },
    {
      "cell_type": "code",
      "source": [
        "#lists\n",
        "l1=[1,2,3,4]\n",
        "l2=[1,\"hello\",\"2.5\"]\n",
        "l3=['hyd','mumbai','goa']\n",
        "\n",
        "#indexing\n",
        "print(l1[2])\n",
        "print(l2[-1])\n",
        "print(l3[:4])\n",
        "\n",
        "#slicing\n",
        "print(l1[:3])\n",
        "\n",
        "#nested list\n",
        "nl1=[\"dragonfruit\",l1,l2]\n",
        "print(nl1[0][0:6])\n",
        "\n",
        "print(l2[1][0:1])\n",
        "print(l2[1][1:2])\n",
        "print(l2[1][2:3])\n",
        "print(l2[1][3:4])\n",
        "print(l2[1][4:5])\n",
        "\n",
        "\n",
        "#listmethods\n",
        "l1.append(5)\n",
        "print(l1)\n",
        "\n",
        "l5=[18,23,4,2,5,9,7,3,24,49,6,4,18]\n",
        "\n",
        "print(l5.count(4))\n",
        "print(len(l5))\n",
        "print(l5[::-1])\n",
        "\n",
        "l5.sort()\n",
        "print(l5)\n",
        "\n",
        "#dir[list]"
      ],
      "metadata": {
        "id": "KC0dEFE2KuK-"
      },
      "execution_count": null,
      "outputs": []
    },
    {
      "cell_type": "code",
      "source": [],
      "metadata": {
        "id": "193tKYbuIOpD"
      },
      "execution_count": null,
      "outputs": []
    }
  ]
}