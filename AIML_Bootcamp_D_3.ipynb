{
  "nbformat": 4,
  "nbformat_minor": 0,
  "metadata": {
    "colab": {
      "provenance": [],
      "authorship_tag": "ABX9TyPmMRnIQD/Q2t0uLibUbtJy",
      "include_colab_link": true
    },
    "kernelspec": {
      "name": "python3",
      "display_name": "Python 3"
    },
    "language_info": {
      "name": "python"
    }
  },
  "cells": [
    {
      "cell_type": "markdown",
      "metadata": {
        "id": "view-in-github",
        "colab_type": "text"
      },
      "source": [
        "<a href=\"https://colab.research.google.com/github/Abhi5503/2216200_AIML_Bootcamp_2023/blob/main/AIML_Bootcamp_D_3.ipynb\" target=\"_parent\"><img src=\"https://colab.research.google.com/assets/colab-badge.svg\" alt=\"Open In Colab\"/></a>"
      ]
    },
    {
      "cell_type": "code",
      "execution_count": 2,
      "metadata": {
        "colab": {
          "base_uri": "https://localhost:8080/"
        },
        "id": "XVjovFzNGUDO",
        "outputId": "8c597693-f577-48af-d0dc-30997ff7ca6f"
      },
      "outputs": [
        {
          "output_type": "stream",
          "name": "stdout",
          "text": [
            "('Hello', (1, 2, 3, 4), ('hi', 2.3, 4))\n",
            "4\n",
            "<built-in method count of tuple object at 0x7fac4ef85090>\n",
            "1\n",
            "4\n",
            "1\n",
            "4\n"
          ]
        }
      ],
      "source": [
        "#tuples- elements cannot be changed in tuples as of in lists\n",
        "\n",
        "tup=(1,2,3,4)\n",
        "tup1=(\"hi\",2.3,4)\n",
        "\n",
        "Ntup=(\"Hello\",tup,tup1)\n",
        "print(Ntup)\n",
        "\n",
        "print(Ntup[-1][-1])\n",
        "\n",
        "#tuplemethods\n",
        "\n",
        "print(tup.count)\n",
        "print(tup.index(2))\n",
        "print(max(tup))\n",
        "print(min(tup))\n",
        "print(len(tup))\n"
      ]
    },
    {
      "cell_type": "code",
      "source": [
        "#sets\n",
        "\n",
        "set1={1,2,3,4}\n",
        "set2={1,2.0,\"hi\"}\n",
        "\n",
        "l=[1,2,3,4]\n",
        "print(l)\n",
        "set3=set(l)\n",
        "print(set3)\n",
        "\n",
        "#set methods\n",
        "set1.add(5)\n",
        "print(set1)\n",
        "\n",
        "set1.update([5,6])\n",
        "print(set1)\n",
        "\n",
        "set1.discard(3)\n",
        "print(set1)\n",
        "\n",
        "set1.remove(4)\n",
        "print(set1)\n",
        "\n",
        "\n",
        "#set operations\n",
        "\n",
        "a={2,5,3,1,7}\n",
        "b={4,5,6,7,2}\n",
        "\n",
        "#union\n",
        "print(\"union\")\n",
        "print(a|b)\n",
        "print(a.union(b))\n",
        "print(b.union(a))\n",
        "\n",
        "#intersection\n",
        "print(\"intersection\")\n",
        "print(a&b)\n",
        "print(a.intersection(b))\n",
        "print(b.intersection(a))\n",
        "\n",
        "#difference\n",
        "print(\"difference\")\n",
        "print(\"a-b:\",a-b)\n",
        "print(\"b-a:\",b-a)\n",
        "\n",
        "\n",
        "\n",
        "\n"
      ],
      "metadata": {
        "colab": {
          "base_uri": "https://localhost:8080/"
        },
        "id": "Xqd4CKNENHfE",
        "outputId": "067a978d-dcf8-4463-e8f7-343f11ef68d3"
      },
      "execution_count": 11,
      "outputs": [
        {
          "output_type": "stream",
          "name": "stdout",
          "text": [
            "[1, 2, 3, 4]\n",
            "{1, 2, 3, 4}\n",
            "{1, 2, 3, 4, 5}\n",
            "{1, 2, 3, 4, 5, 6}\n",
            "{1, 2, 4, 5, 6}\n",
            "{1, 2, 5, 6}\n",
            "union\n",
            "{1, 2, 3, 4, 5, 6, 7}\n",
            "{1, 2, 3, 4, 5, 6, 7}\n",
            "{1, 2, 3, 4, 5, 6, 7}\n",
            "intersection\n",
            "{2, 5, 7}\n",
            "{2, 5, 7}\n",
            "{2, 5, 7}\n",
            "difference\n",
            "a-b: {1, 3}\n",
            "b-a: {4, 6}\n"
          ]
        }
      ]
    },
    {
      "cell_type": "code",
      "source": [
        "#dictionaries\n",
        "d1={'name':'abhinandana',200:'sub'}\n",
        "print(d1['name'])\n",
        "print(d1[200])\n",
        "print(d1.keys())\n",
        "print(d1.values())\n",
        "print(d1.get(\"name\"))"
      ],
      "metadata": {
        "colab": {
          "base_uri": "https://localhost:8080/"
        },
        "id": "1hdi25h8P_sz",
        "outputId": "c30889aa-a18c-4f74-dc16-a8a4a6250166"
      },
      "execution_count": 16,
      "outputs": [
        {
          "output_type": "stream",
          "name": "stdout",
          "text": [
            "abhinandana\n",
            "sub\n",
            "dict_keys(['name', 200])\n",
            "dict_values(['abhinandana', 'sub'])\n",
            "abhinandana\n"
          ]
        }
      ]
    }
  ]
}