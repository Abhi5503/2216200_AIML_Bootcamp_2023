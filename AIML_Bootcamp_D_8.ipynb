{
  "nbformat": 4,
  "nbformat_minor": 0,
  "metadata": {
    "colab": {
      "provenance": [],
      "authorship_tag": "ABX9TyMAUI2rCJJ3fMDPf6RaWAv4",
      "include_colab_link": true
    },
    "kernelspec": {
      "name": "python3",
      "display_name": "Python 3"
    },
    "language_info": {
      "name": "python"
    }
  },
  "cells": [
    {
      "cell_type": "markdown",
      "metadata": {
        "id": "view-in-github",
        "colab_type": "text"
      },
      "source": [
        "<a href=\"https://colab.research.google.com/github/Abhi5503/2216200_AIML_Bootcamp_2023/blob/main/AIML_Bootcamp_D_8.ipynb\" target=\"_parent\"><img src=\"https://colab.research.google.com/assets/colab-badge.svg\" alt=\"Open In Colab\"/></a>"
      ]
    },
    {
      "cell_type": "code",
      "execution_count": null,
      "metadata": {
        "id": "4NkIX30xhV58"
      },
      "outputs": [],
      "source": [
        "#file handling\n",
        "#open files\n",
        "#perform operations\n",
        "#close file\n",
        "\n",
        "#file object =open(\"file name\",\"mode\")\n",
        "\n",
        "#modes\n",
        "#x=create\n",
        "#r=read\n",
        "#w=write\n",
        "#r+ = reads and write(does not overwrite prev files)\n",
        "#w+ =write and read\n",
        "#rb=binary read\n",
        "#wb=write binary\n",
        "#rb+ and wb+\n",
        "#a=appends\n",
        "#a+=append and read\n",
        "#ab= binary\n",
        "#ab+\n",
        "\n",
        "\n",
        "\n"
      ]
    },
    {
      "cell_type": "code",
      "source": [
        "f=open(\"sample.txt\",\"x\")"
      ],
      "metadata": {
        "id": "ntVHQHMekeSL"
      },
      "execution_count": null,
      "outputs": []
    },
    {
      "cell_type": "code",
      "source": [
        "f=open(\"sample.txt\",\"w\")\n",
        "f.write(\"Welcome to python!\")\n",
        "f.close()"
      ],
      "metadata": {
        "id": "sUD8zTESlIR5"
      },
      "execution_count": 12,
      "outputs": []
    },
    {
      "cell_type": "code",
      "source": [
        "f=open(\"sam.txt\",\"x\")\n",
        "import os\n",
        "os.remove(\"sam.txt\")"
      ],
      "metadata": {
        "id": "D4y6BDDdl2U1"
      },
      "execution_count": 13,
      "outputs": []
    },
    {
      "cell_type": "code",
      "source": [
        "f=open(\"sample.txt\",\"r\")\n",
        "print(f.read(3))\n",
        "print(f.tell())\n",
        "print(f.seek(2))\n",
        "print(f.seek(0))\n",
        "print(f.readline())\n",
        "print(f.readlines())\n",
        "f.close()"
      ],
      "metadata": {
        "colab": {
          "base_uri": "https://localhost:8080/"
        },
        "id": "fPjSKMICml2_",
        "outputId": "614e7a10-a308-401e-d99b-ed28780fb47f"
      },
      "execution_count": 14,
      "outputs": [
        {
          "output_type": "stream",
          "name": "stdout",
          "text": [
            "Wel\n",
            "3\n",
            "2\n",
            "0\n",
            "Welcome to python!\n",
            "[]\n"
          ]
        }
      ]
    },
    {
      "cell_type": "code",
      "source": [
        "f1=open(\"f1.txt\",\"w\")\n",
        "f1.write(\"copypaste\")\n",
        "f1.close()"
      ],
      "metadata": {
        "id": "yHts4KSToBHY"
      },
      "execution_count": 15,
      "outputs": []
    },
    {
      "cell_type": "code",
      "source": [
        "f1=open(\"f1.txt\",\"r\")\n",
        "temp=f1.read()\n",
        "f1.close()\n",
        "\n",
        "f2=open(\"f2.txt\",\"w\")\n",
        "f2.write(temp)\n",
        "f2.close()"
      ],
      "metadata": {
        "id": "55r4LUAZoZib"
      },
      "execution_count": 18,
      "outputs": []
    },
    {
      "cell_type": "code",
      "source": [
        "#append\n",
        "#reverse palindrome\n",
        "#armstrong\n",
        "#create a dictionary and convert these elements to list(save in files)\n"
      ],
      "metadata": {
        "id": "cvZ-g4QSpEX8"
      },
      "execution_count": null,
      "outputs": []
    },
    {
      "cell_type": "code",
      "source": [
        "#pickling\n",
        "import pickle\n",
        "mylist=['a','b','c','d']\n",
        "f3=open(\"datafile.txt\",\"wb\")\n",
        "temp=pickle.dump(mylist,f3)\n",
        "print(temp)\n",
        "f3.close()\n",
        "\n",
        "#unpickling\n",
        "import pickle\n",
        "pickle_off=open(\"datafile.txt\",\"rb\")\n",
        "e=pickle.load(pickle_off)\n",
        "print(e)\n"
      ],
      "metadata": {
        "colab": {
          "base_uri": "https://localhost:8080/"
        },
        "id": "vWrvPFV9qZT9",
        "outputId": "b50e01d2-3d65-48a4-b1d2-f697b4ef3bbb"
      },
      "execution_count": 23,
      "outputs": [
        {
          "output_type": "stream",
          "name": "stdout",
          "text": [
            "None\n",
            "['a', 'b', 'c', 'd']\n"
          ]
        }
      ]
    },
    {
      "cell_type": "markdown",
      "source": [
        "# New Section"
      ],
      "metadata": {
        "id": "c7qoTie_o6jS"
      }
    }
  ]
}