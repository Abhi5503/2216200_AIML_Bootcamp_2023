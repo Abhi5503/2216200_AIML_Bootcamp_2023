{
  "nbformat": 4,
  "nbformat_minor": 0,
  "metadata": {
    "colab": {
      "provenance": [],
      "authorship_tag": "ABX9TyNfYfym/E9v3btwOLlxesz+",
      "include_colab_link": true
    },
    "kernelspec": {
      "name": "python3",
      "display_name": "Python 3"
    },
    "language_info": {
      "name": "python"
    }
  },
  "cells": [
    {
      "cell_type": "markdown",
      "metadata": {
        "id": "view-in-github",
        "colab_type": "text"
      },
      "source": [
        "<a href=\"https://colab.research.google.com/github/Abhi5503/2216200_AIML_Bootcamp_2023/blob/main/Assignment_1.ipynb\" target=\"_parent\"><img src=\"https://colab.research.google.com/assets/colab-badge.svg\" alt=\"Open In Colab\"/></a>"
      ]
    },
    {
      "cell_type": "code",
      "execution_count": 2,
      "metadata": {
        "colab": {
          "base_uri": "https://localhost:8080/"
        },
        "id": "RzdAFziRQ0Tt",
        "outputId": "ec53bf63-0c33-47c0-edf7-587311e17262"
      },
      "outputs": [
        {
          "output_type": "stream",
          "name": "stdout",
          "text": [
            "taawkcbe  tgestrcoeeA\n"
          ]
        }
      ],
      "source": [
        "print('A series of characters designated as one object known as a string'[::-1][4::3])"
      ]
    },
    {
      "cell_type": "code",
      "source": [
        "print('welcome to python training program'[3:10][::-1])"
      ],
      "metadata": {
        "colab": {
          "base_uri": "https://localhost:8080/"
        },
        "id": "omeyMSxQTToa",
        "outputId": "f43acdd0-23da-41e6-ba30-7794438fce6a"
      },
      "execution_count": 3,
      "outputs": [
        {
          "output_type": "stream",
          "name": "stdout",
          "text": [
            "ot emoc\n"
          ]
        }
      ]
    },
    {
      "cell_type": "code",
      "source": [
        "s1=\"was it a car or a cat i saw\"\n",
        "s2=(s1[::-1])\n",
        "print(s2.upper())"
      ],
      "metadata": {
        "colab": {
          "base_uri": "https://localhost:8080/"
        },
        "id": "PhufdiwJVIqr",
        "outputId": "c74473c6-388f-44f1-f06f-989ab8417c88"
      },
      "execution_count": 6,
      "outputs": [
        {
          "output_type": "stream",
          "name": "stdout",
          "text": [
            "WAS I TAC A RO RAC A TI SAW\n"
          ]
        }
      ]
    },
    {
      "cell_type": "code",
      "source": [
        "x=int(input('enter x:'))\n",
        "y=2*x\n",
        "print('z'*x + 'o'* y)"
      ],
      "metadata": {
        "colab": {
          "base_uri": "https://localhost:8080/"
        },
        "id": "0vKYY448WHUU",
        "outputId": "218a80c9-869c-471c-e7e9-c7afe93e5bea"
      },
      "execution_count": 9,
      "outputs": [
        {
          "output_type": "stream",
          "name": "stdout",
          "text": [
            "enter x:5\n",
            "zzzzzoooooooooo\n"
          ]
        }
      ]
    },
    {
      "cell_type": "code",
      "source": [
        "k=65\n",
        "print(hex(k))#hexadecimal\n",
        "print(oct(k))#octal\n",
        "print(bin(k))#binary\n",
        "print(chr(k))#ascii"
      ],
      "metadata": {
        "colab": {
          "base_uri": "https://localhost:8080/"
        },
        "id": "u47X_LTGXi8f",
        "outputId": "400f2f36-d4b2-4e46-c6ae-1c54ed3135d9"
      },
      "execution_count": 15,
      "outputs": [
        {
          "output_type": "stream",
          "name": "stdout",
          "text": [
            "0x41\n",
            "0o101\n",
            "0b1000001\n",
            "A\n"
          ]
        }
      ]
    }
  ]
}