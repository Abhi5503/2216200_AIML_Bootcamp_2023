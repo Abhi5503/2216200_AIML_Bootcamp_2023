{
  "nbformat": 4,
  "nbformat_minor": 0,
  "metadata": {
    "colab": {
      "provenance": [],
      "authorship_tag": "ABX9TyNtcKWu4j2U0expV3qEPRXW",
      "include_colab_link": true
    },
    "kernelspec": {
      "name": "python3",
      "display_name": "Python 3"
    },
    "language_info": {
      "name": "python"
    }
  },
  "cells": [
    {
      "cell_type": "markdown",
      "metadata": {
        "id": "view-in-github",
        "colab_type": "text"
      },
      "source": [
        "<a href=\"https://colab.research.google.com/github/Abhi5503/2216200_AIML_Bootcamp_2023/blob/main/Assignment_1.ipynb\" target=\"_parent\"><img src=\"https://colab.research.google.com/assets/colab-badge.svg\" alt=\"Open In Colab\"/></a>"
      ]
    },
    {
      "cell_type": "code",
      "execution_count": null,
      "metadata": {
        "colab": {
          "base_uri": "https://localhost:8080/"
        },
        "id": "RzdAFziRQ0Tt",
        "outputId": "ec53bf63-0c33-47c0-edf7-587311e17262"
      },
      "outputs": [
        {
          "output_type": "stream",
          "name": "stdout",
          "text": [
            "taawkcbe  tgestrcoeeA\n"
          ]
        }
      ],
      "source": [
        "#15)a)\n",
        "print('A series of characters designated as one object known as a string'[::-1][4::3])"
      ]
    },
    {
      "cell_type": "code",
      "source": [
        "#b)\n",
        "print('welcome to python training program'[3:10][::-1])"
      ],
      "metadata": {
        "colab": {
          "base_uri": "https://localhost:8080/"
        },
        "id": "omeyMSxQTToa",
        "outputId": "f43acdd0-23da-41e6-ba30-7794438fce6a"
      },
      "execution_count": null,
      "outputs": [
        {
          "output_type": "stream",
          "name": "stdout",
          "text": [
            "ot emoc\n"
          ]
        }
      ]
    },
    {
      "cell_type": "code",
      "source": [
        "#16)\n",
        "s1=\"was it a car or a cat i saw\"\n",
        "s2=(s1[::-1])\n",
        "print(s2.upper())"
      ],
      "metadata": {
        "colab": {
          "base_uri": "https://localhost:8080/"
        },
        "id": "PhufdiwJVIqr",
        "outputId": "c74473c6-388f-44f1-f06f-989ab8417c88"
      },
      "execution_count": null,
      "outputs": [
        {
          "output_type": "stream",
          "name": "stdout",
          "text": [
            "WAS I TAC A RO RAC A TI SAW\n"
          ]
        }
      ]
    },
    {
      "cell_type": "code",
      "source": [
        "#17)\n",
        "x=int(input('enter x:'))\n",
        "y=2*x\n",
        "print('z'*x + 'o'* y)"
      ],
      "metadata": {
        "colab": {
          "base_uri": "https://localhost:8080/"
        },
        "id": "0vKYY448WHUU",
        "outputId": "218a80c9-869c-471c-e7e9-c7afe93e5bea"
      },
      "execution_count": null,
      "outputs": [
        {
          "output_type": "stream",
          "name": "stdout",
          "text": [
            "enter x:5\n",
            "zzzzzoooooooooo\n"
          ]
        }
      ]
    },
    {
      "cell_type": "code",
      "source": [
        "#Q)6\n",
        "k=65\n",
        "print(hex(k))#hexadecimal\n",
        "print(oct(k))#octal\n",
        "print(bin(k))#binary\n",
        "print(chr(k))#ascii"
      ],
      "metadata": {
        "colab": {
          "base_uri": "https://localhost:8080/"
        },
        "id": "u47X_LTGXi8f",
        "outputId": "400f2f36-d4b2-4e46-c6ae-1c54ed3135d9"
      },
      "execution_count": null,
      "outputs": [
        {
          "output_type": "stream",
          "name": "stdout",
          "text": [
            "0x41\n",
            "0o101\n",
            "0b1000001\n",
            "A\n"
          ]
        }
      ]
    },
    {
      "cell_type": "code",
      "source": [
        "#Q)7)arithmetic operator\n",
        "val1 = 9\n",
        "val2 = 3\n",
        "\n",
        "res = val1 + val2\n",
        "print(res)\n",
        "\n",
        "res1=val1-val2\n",
        "print(res1)\n",
        "\n",
        "res2=val1*val2\n",
        "print(res2)\n",
        "\n",
        "res3=val1**val2\n",
        "print(res3)\n",
        "\n",
        "res4=val1/val2\n",
        "print(res4)\n",
        "\n",
        "res5=val1//val2\n",
        "print(res5)\n",
        "\n",
        "res6=val1%val2\n",
        "print(res6)"
      ],
      "metadata": {
        "colab": {
          "base_uri": "https://localhost:8080/"
        },
        "id": "ftL1t8VSW51J",
        "outputId": "689f0491-8324-4c30-f0bf-bc83c7376bcd"
      },
      "execution_count": 6,
      "outputs": [
        {
          "output_type": "stream",
          "name": "stdout",
          "text": [
            "12\n",
            "6\n",
            "27\n",
            "729\n",
            "3.0\n",
            "3\n",
            "0\n"
          ]
        }
      ]
    },
    {
      "cell_type": "code",
      "source": [
        "#Q)8)assignment operators\n",
        "a=5\n",
        "b=1\n",
        "\n",
        "a+=b\n",
        "print(a)\n",
        "\n",
        "x=5\n",
        "y=2\n",
        "\n",
        "x*=y\n",
        "print(x)\n",
        "\n",
        "m=5\n",
        "n=3\n",
        "m-=n\n",
        "print(m)\n",
        "\n",
        "i=6\n",
        "j=2\n",
        "i/=j\n",
        "print(i)\n",
        "\n"
      ],
      "metadata": {
        "colab": {
          "base_uri": "https://localhost:8080/"
        },
        "id": "1absenr8ZaJT",
        "outputId": "066c1560-0555-45b5-eb7a-8b02f99bf74f"
      },
      "execution_count": 14,
      "outputs": [
        {
          "output_type": "stream",
          "name": "stdout",
          "text": [
            "6\n",
            "10\n",
            "2\n",
            "3.0\n"
          ]
        }
      ]
    },
    {
      "cell_type": "code",
      "source": [
        "#Q)9)comparision operators\n",
        "\n",
        "l>=k\n",
        "l<=k\n",
        "l==k\n",
        "l!=k\n",
        "l<<k\n"
      ],
      "metadata": {
        "id": "N20WmAqobyYX"
      },
      "execution_count": null,
      "outputs": []
    },
    {
      "cell_type": "code",
      "source": [
        "#10)logical operators\n",
        "\n",
        "x = True\n",
        "y = False\n",
        "print(x and y)\n",
        "print(\"x or y is:\",x or y)\n",
        "print(\"x not y is:\",x not y)"
      ],
      "metadata": {
        "id": "NP7DZl2ndA0Y"
      },
      "execution_count": null,
      "outputs": []
    },
    {
      "cell_type": "code",
      "source": [
        "#Q)11)bitwise operators\n",
        "a=15 #0000 1111\n",
        "b=14 #0000 1110\n",
        "\n",
        "print(a&b)#and\n",
        "print(a|b)#or\n",
        "print(~a)#not\n",
        "print(a^b)#xor\n",
        "print(a>>2)#right shift\n",
        "print(a<<2)#left shift\n",
        "     "
      ],
      "metadata": {
        "colab": {
          "base_uri": "https://localhost:8080/"
        },
        "id": "GOI-oIgseH0H",
        "outputId": "ec6d720f-4039-421f-deac-2cced2b2411a"
      },
      "execution_count": 25,
      "outputs": [
        {
          "output_type": "stream",
          "name": "stdout",
          "text": [
            "14\n",
            "15\n",
            "-16\n",
            "1\n",
            "3\n",
            "60\n"
          ]
        }
      ]
    },
    {
      "cell_type": "code",
      "source": [
        "#Q)12)membership operators\n",
        " x = \"heyy\"\n",
        " print(\"h\" in x)"
      ],
      "metadata": {
        "id": "kBSl-hXie6sz"
      },
      "execution_count": null,
      "outputs": []
    },
    {
      "cell_type": "code",
      "source": [
        "#Q)13)identity operators\n",
        "\n",
        "x1=5\n",
        "y1=5\n",
        "x2=\"hello\"\n",
        "y2=\"hello\"\n",
        "x3=[3,6,9]\n",
        "y3=[1,2,3]\n",
        "print(x1 is not y1)\n",
        "print(x2 is y2)\n",
        "print(x3 is y3)\n",
        "\n"
      ],
      "metadata": {
        "colab": {
          "base_uri": "https://localhost:8080/"
        },
        "id": "K_J_RozLf8RA",
        "outputId": "0168316b-4eff-47a9-8ef8-8c06e425feae"
      },
      "execution_count": 35,
      "outputs": [
        {
          "output_type": "stream",
          "name": "stdout",
          "text": [
            "False\n",
            "True\n",
            "False\n"
          ]
        }
      ]
    },
    {
      "cell_type": "code",
      "source": [
        "#Q)14)negative indexing for list\n",
        "\n",
        "l1=[2,4,6,8]\n",
        "l2=[\"heyy\",2,5,3,5,2]\n",
        "\n",
        "#neg index\n",
        "print(l1[1:-1])\n",
        "print(l2[2:6])\n",
        "\n",
        "nl1=[\"heya\",l1,l2]\n",
        "print(nl1[1][:-1])\n"
      ],
      "metadata": {
        "colab": {
          "base_uri": "https://localhost:8080/"
        },
        "id": "VZReGp0sgVD8",
        "outputId": "5a172e50-b349-4206-e8ab-5eb86c768425"
      },
      "execution_count": 51,
      "outputs": [
        {
          "output_type": "stream",
          "name": "stdout",
          "text": [
            "[4, 6]\n",
            "[5, 3, 5, 2]\n",
            "[2, 4, 6]\n"
          ]
        }
      ]
    },
    {
      "cell_type": "code",
      "source": [
        "#Q)1)string with examples\n",
        "\n",
        "str=\"AIMLBootcamp\"\n",
        "#indexing\n",
        "print(str[0])\n",
        "print(str[-1])\n",
        "\n",
        "#slicing\n",
        "#from:to(n-1:2)\n",
        "print(str[0:5])\n",
        "print(str[0:7:2])\n",
        "\n",
        "#reverse a string\n",
        "\n",
        "print(str[::-1])\n",
        "\n",
        "#string methods\n",
        "my_str=\"Hello World\"\n",
        "print(my_str.upper())\n",
        "print(my_str.lower())\n",
        "print(my_str.swapcase())\n",
        "print(my_str.lstrip())\n",
        "print(my_str.rstrip())\n",
        "\n",
        "#string operations\n",
        "str1=\"hello\"\n",
        "str2=\"world\"\n",
        "print(str1,\"to the\",str2)"
      ],
      "metadata": {
        "colab": {
          "base_uri": "https://localhost:8080/"
        },
        "id": "vmadTGtJiQnU",
        "outputId": "732e9d12-da9c-41bd-aac2-6b6e1cfa1cb8"
      },
      "execution_count": 52,
      "outputs": [
        {
          "output_type": "stream",
          "name": "stdout",
          "text": [
            "A\n",
            "p\n",
            "AIMLB\n",
            "AMBo\n",
            "pmactooBLMIA\n",
            "HELLO WORLD\n",
            "hello world\n",
            "hELLO wORLD\n",
            "Hello World\n",
            "Hello World\n",
            "hello to the world\n"
          ]
        }
      ]
    },
    {
      "cell_type": "code",
      "source": [
        "#Q)2)lists with examples\n",
        "l1=[1,2,3,4]\n",
        "l2=[1,\"hello\",\"2.5\"]\n",
        "l3=['doraemon','tomnjerry','chotabheem']\n",
        "\n",
        "#indexing\n",
        "print(l1[2])\n",
        "print(l2[-1])\n",
        "print(l3[:4])\n",
        "\n",
        "#slicing\n",
        "print(l1[:3])\n",
        "\n",
        "#nested list\n",
        "nl1=[\"hyderabad\",l1,l2]\n",
        "print(nl1[0][0:6])\n",
        "\n",
        "print(l2[1][0:1])\n",
        "print(l2[1][1:2])\n",
        "print(l2[1][2:3])\n",
        "print(l2[1][3:4])\n",
        "print(l2[1][4:5])\n",
        "\n",
        "\n",
        "#listmethods\n",
        "l1.append(\"heyy\")\n",
        "print(l1)\n",
        "\n",
        "l5=[18,23,4,2,5,9,7,3,24,49,6,4,18]\n",
        "\n",
        "print(l5.count(6))\n",
        "print(len(l5))\n",
        "print(l5[::-1])\n",
        "\n",
        "l5.sort()\n",
        "print(\"sorted:\",l5)\n"
      ],
      "metadata": {
        "colab": {
          "base_uri": "https://localhost:8080/"
        },
        "id": "8H5Fnp11j-ec",
        "outputId": "34eaeb6c-dae1-4ed0-cc7b-9cbe4228cc9e"
      },
      "execution_count": 55,
      "outputs": [
        {
          "output_type": "stream",
          "name": "stdout",
          "text": [
            "3\n",
            "2.5\n",
            "['doraemon', 'tomnjerry', 'chotabheem']\n",
            "[1, 2, 3]\n",
            "hydera\n",
            "h\n",
            "e\n",
            "l\n",
            "l\n",
            "o\n",
            "[1, 2, 3, 4, 'heyy']\n",
            "1\n",
            "13\n",
            "[18, 4, 6, 49, 24, 3, 7, 9, 5, 2, 4, 23, 18]\n",
            "sorted: [2, 3, 4, 4, 5, 6, 7, 9, 18, 18, 23, 24, 49]\n"
          ]
        }
      ]
    },
    {
      "cell_type": "code",
      "source": [
        "#Q)3)tuple with examples\n",
        "t1=(1,2,3,4,5,6)\n",
        "t2=(\"aiml\",\"bootcamp\",2.0)\n",
        "\n",
        "ntup=(\"hello\",t1,t2)\n",
        "print(ntup[-1][-1])\n",
        "\n",
        "#tuple methods\n",
        "\n",
        "print(max(t1))\n",
        "print(min(t1))\n",
        "print(len(ntup))\n",
        "print(t2.count)\n",
        "print(t1.index(4))"
      ],
      "metadata": {
        "colab": {
          "base_uri": "https://localhost:8080/"
        },
        "id": "bKCwjVAxm2jU",
        "outputId": "a64ba334-e0e5-4174-f7a0-8d68bf2a680d"
      },
      "execution_count": 60,
      "outputs": [
        {
          "output_type": "stream",
          "name": "stdout",
          "text": [
            "2.0\n",
            "6\n",
            "1\n",
            "3\n",
            "<built-in method count of tuple object at 0x7f558096b600>\n",
            "3\n"
          ]
        }
      ]
    },
    {
      "cell_type": "code",
      "source": [
        "#Q)4)dictionary with examples\n",
        "\n",
        "d1={'channel':'ndtv',5503:'ddlj'}\n",
        "print(d1['channel'])\n",
        "print(d1[5503])\n",
        "print(d1.keys())\n",
        "print(d1.values())\n",
        "print(d1.get(\"ddlj\"))\n",
        "     "
      ],
      "metadata": {
        "colab": {
          "base_uri": "https://localhost:8080/"
        },
        "id": "i44d1UQlm8e5",
        "outputId": "f4ff43d8-d721-484e-f5a2-60e2c5db7bc7"
      },
      "execution_count": 61,
      "outputs": [
        {
          "output_type": "stream",
          "name": "stdout",
          "text": [
            "ndtv\n",
            "ddlj\n",
            "dict_keys(['channel', 5503])\n",
            "dict_values(['ndtv', 'ddlj'])\n",
            "None\n"
          ]
        }
      ]
    },
    {
      "cell_type": "code",
      "source": [
        "#Q)5)set with examples\n",
        "\n",
        "set1={2,4,6,8}\n",
        "set2={1,2.0,\"hi\",\"helloworld\"}\n",
        "\n",
        "l=[1,2,3,4]\n",
        "print(l)\n",
        "set3=set(l)\n",
        "print(set3)\n",
        "\n",
        "#set methods\n",
        "set1.add(5)\n",
        "print(set1)\n",
        "\n",
        "set1.update([5,6])\n",
        "print(set1)\n",
        "\n",
        "set1.discard(3)\n",
        "print(set1)\n",
        "\n",
        "set1.remove(4)\n",
        "print(set1)\n",
        "\n",
        "\n",
        "#set operations\n",
        "\n",
        "a={10,20,30,40}\n",
        "b={40,20,50,60}\n",
        "\n",
        "#union\n",
        "print(\"union\")\n",
        "print(a|b)\n",
        "print(a.union(b))\n",
        "print(b.union(a))\n",
        "\n",
        "#intersection\n",
        "print(\"intersection\")\n",
        "print(a&b)\n",
        "print(a.intersection(b))\n",
        "print(b.intersection(a))\n",
        "\n",
        "#difference\n",
        "print(\"difference\")\n",
        "print(\"a-b:\",a-b)\n",
        "print(\"b-a:\",b-a)"
      ],
      "metadata": {
        "colab": {
          "base_uri": "https://localhost:8080/"
        },
        "id": "zhAGBCECnCN8",
        "outputId": "2b2efa76-856b-4aa8-b2a5-c7d858490d59"
      },
      "execution_count": 62,
      "outputs": [
        {
          "output_type": "stream",
          "name": "stdout",
          "text": [
            "[1, 2, 3, 4]\n",
            "{1, 2, 3, 4}\n",
            "{2, 4, 5, 6, 8}\n",
            "{2, 4, 5, 6, 8}\n",
            "{2, 4, 5, 6, 8}\n",
            "{2, 5, 6, 8}\n",
            "union\n",
            "{40, 10, 50, 20, 60, 30}\n",
            "{40, 10, 50, 20, 60, 30}\n",
            "{40, 10, 50, 20, 60, 30}\n",
            "intersection\n",
            "{40, 20}\n",
            "{40, 20}\n",
            "{40, 20}\n",
            "difference\n",
            "a-b: {10, 30}\n",
            "b-a: {50, 60}\n"
          ]
        }
      ]
    }
  ]
}